{
 "cells": [
  {
   "cell_type": "code",
   "execution_count": 2,
   "id": "bbb36b10-88ae-4a07-a84e-0248374d585b",
   "metadata": {},
   "outputs": [],
   "source": [
    "import numpy as np"
   ]
  },
  {
   "cell_type": "code",
   "execution_count": 3,
   "id": "635e2675-cd86-47e2-b311-f36d720b65db",
   "metadata": {},
   "outputs": [
    {
     "name": "stdout",
     "output_type": "stream",
     "text": [
      "[12 12 12 12 12 12 12]\n"
     ]
    }
   ],
   "source": [
    "arr2 = np.tile(12, 7)\n",
    "print(arr2)"
   ]
  },
  {
   "cell_type": "code",
   "execution_count": 4,
   "id": "75b1d5cd-c139-4f29-9f8b-42c6292eabfe",
   "metadata": {},
   "outputs": [
    {
     "name": "stdout",
     "output_type": "stream",
     "text": [
      "[1 1 1 2 2 2]\n"
     ]
    }
   ],
   "source": [
    "arr3 = np.repeat([1, 2], 3)\n",
    "print(arr3)"
   ]
  },
  {
   "cell_type": "code",
   "execution_count": 5,
   "id": "e0fad703-0632-4790-890d-2386f55509da",
   "metadata": {},
   "outputs": [
    {
     "name": "stdout",
     "output_type": "stream",
     "text": [
      "[ 0  5 10 15 20 25 30 35 40 45 50 55 60 65 70 75 80 85 90 95]\n"
     ]
    }
   ],
   "source": [
    "arr4 = np.arange(0, 100, 5, dtype=\"int\")\n",
    "print(arr4)"
   ]
  },
  {
   "cell_type": "code",
   "execution_count": 6,
   "id": "0042476c-469f-434c-9268-0a06fed03353",
   "metadata": {},
   "outputs": [
    {
     "name": "stdout",
     "output_type": "stream",
     "text": [
      "[  0  25  50  75 100]\n"
     ]
    }
   ],
   "source": [
    "arr5 = np.linspace(0, 100, 5, dtype=\"int\")\n",
    "print(arr5)"
   ]
  },
  {
   "cell_type": "code",
   "execution_count": 7,
   "id": "78159409-9826-4254-bb95-35203fe7fa8f",
   "metadata": {},
   "outputs": [
    {
     "name": "stdout",
     "output_type": "stream",
     "text": [
      "[[[1. 1. 1. 1.]\n",
      "  [1. 1. 1. 1.]\n",
      "  [1. 1. 1. 1.]\n",
      "  [1. 1. 1. 1.]]\n",
      "\n",
      " [[1. 1. 1. 1.]\n",
      "  [1. 1. 1. 1.]\n",
      "  [1. 1. 1. 1.]\n",
      "  [1. 1. 1. 1.]]\n",
      "\n",
      " [[1. 1. 1. 1.]\n",
      "  [1. 1. 1. 1.]\n",
      "  [1. 1. 1. 1.]\n",
      "  [1. 1. 1. 1.]]]\n"
     ]
    }
   ],
   "source": [
    "arr6 = np.ones((3, 4, 4))\n",
    "print(arr6)"
   ]
  },
  {
   "cell_type": "code",
   "execution_count": 8,
   "id": "c5e48d7f-d68d-4f37-8fd3-91c3557b840e",
   "metadata": {},
   "outputs": [
    {
     "name": "stdout",
     "output_type": "stream",
     "text": [
      "[[[0. 0.]\n",
      "  [0. 0.]\n",
      "  [0. 0.]\n",
      "  [0. 0.]]\n",
      "\n",
      " [[0. 0.]\n",
      "  [0. 0.]\n",
      "  [0. 0.]\n",
      "  [0. 0.]]\n",
      "\n",
      " [[0. 0.]\n",
      "  [0. 0.]\n",
      "  [0. 0.]\n",
      "  [0. 0.]]]\n"
     ]
    }
   ],
   "source": [
    "arr7 = np.zeros((3, 4, 2))\n",
    "print(arr7)"
   ]
  },
  {
   "cell_type": "code",
   "execution_count": 9,
   "id": "c522fa53-72f7-46ca-8b4d-cd40afd80472",
   "metadata": {},
   "outputs": [
    {
     "name": "stdout",
     "output_type": "stream",
     "text": [
      "[[[0.45783694 0.31879641 0.4859955  0.01900125 0.70885105]\n",
      "  [0.01549663 0.35058488 0.06876334 0.39991638 0.43034278]\n",
      "  [0.29221623 0.8068581  0.24824661 0.12003347 0.48016146]\n",
      "  [0.63612408 0.24108703 0.52856293 0.69731887 0.70293809]]\n",
      "\n",
      " [[0.46047863 0.33380895 0.89528965 0.59681452 0.63003839]\n",
      "  [0.30062522 0.90611561 0.08043235 0.31717469 0.44674623]\n",
      "  [0.518933   0.58273911 0.29639495 0.42524738 0.72596199]\n",
      "  [0.97908261 0.7330187  0.30718157 0.24458232 0.33074185]]\n",
      "\n",
      " [[0.68656689 0.71901714 0.29339195 0.64120851 0.90007128]\n",
      "  [0.55124086 0.29719051 0.40016556 0.98289411 0.6679313 ]\n",
      "  [0.03869542 0.70692434 0.48313074 0.44992014 0.03639431]\n",
      "  [0.41423988 0.00612207 0.69573505 0.21304286 0.78678546]]]\n"
     ]
    }
   ],
   "source": [
    "arr8 = np.random.rand(3, 4, 5)\n",
    "print(arr8)"
   ]
  },
  {
   "cell_type": "code",
   "execution_count": 10,
   "id": "4f14fa8f-448b-4737-bf9e-ca09b76b6906",
   "metadata": {},
   "outputs": [
    {
     "name": "stdout",
     "output_type": "stream",
     "text": [
      "[197 148 152   5  69  66 168]\n"
     ]
    }
   ],
   "source": [
    "arr9 = np.random.randint(1, 200, 7)\n",
    "print(arr9)"
   ]
  },
  {
   "cell_type": "code",
   "execution_count": null,
   "id": "400ba18c-d32f-4404-b5b5-06be820eb7c7",
   "metadata": {},
   "outputs": [],
   "source": []
  }
 ],
 "metadata": {
  "kernelspec": {
   "display_name": "Python 3 (ipykernel)",
   "language": "python",
   "name": "python3"
  },
  "language_info": {
   "codemirror_mode": {
    "name": "ipython",
    "version": 3
   },
   "file_extension": ".py",
   "mimetype": "text/x-python",
   "name": "python",
   "nbconvert_exporter": "python",
   "pygments_lexer": "ipython3",
   "version": "3.10.9"
  }
 },
 "nbformat": 4,
 "nbformat_minor": 5
}
