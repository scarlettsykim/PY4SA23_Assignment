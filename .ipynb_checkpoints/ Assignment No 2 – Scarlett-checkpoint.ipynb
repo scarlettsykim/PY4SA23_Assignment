{
 "cells": [
  {
   "cell_type": "markdown",
   "id": "a5369fc0-8b70-42ba-bb08-9436c861b307",
   "metadata": {},
   "source": [
    "# Lab Assignment 2 – Scarlett  200016841 \n",
    "**(The URL of the recently created GitHub repository (Not MYFirstRepo, orPY4SA_Course)**"
   ]
  },
  {
   "cell_type": "markdown",
   "id": "8cffe89e-5fbe-456d-8913-c0aa9e77111a",
   "metadata": {
    "tags": []
   },
   "source": [
    "## Assignment Tasks"
   ]
  },
  {
   "cell_type": "markdown",
   "id": "0794f23f-d4da-41ce-a3b6-7dc9148e0e37",
   "metadata": {},
   "source": [
    "**Python Basics**"
   ]
  },
  {
   "cell_type": "markdown",
   "id": "f8c250be-4187-4a6a-b1c7-93dd6a5e48c4",
   "metadata": {},
   "source": [
    "**Task 1:**\n",
    "Create an If...Else statement that will test whether a number is divisible by three. \"YOUR VALUE is divisible by 3\" should be printed if the value is divisible by three. \"YOUR VALUE is not divisible by three\" should be printed if it is not divisible by three. Test the statement on a numeric variable. Upper case text in the print statement should be replaced with the tested number."
   ]
  },
  {
   "cell_type": "code",
   "execution_count": 13,
   "id": "1eb4b543-92ad-4604-b20c-816611156542",
   "metadata": {},
   "outputs": [
    {
     "name": "stdout",
     "output_type": "stream",
     "text": [
      "12 is divisible by 3.\n"
     ]
    }
   ],
   "source": [
    "number = 12  # replace with your own value to be tested\n",
    "\n",
    "if number % 3 == 0:\n",
    "    print(str(number) + \" is divisible by 3\")\n",
    "else:\n",
    "    print(str(number) + \" is not divisible by 3\")"
   ]
  },
  {
   "cell_type": "markdown",
   "id": "4f453b04-8bca-4d6f-b7d0-de7ee61f1bc2",
   "metadata": {},
   "source": [
    "**Task 2** Create an If...Else statement that will test whether a type of fruit, represented as a text string, is in a list of acceptable fruits (apple, orange, pear, kiwi, or strawberry). If the fruit is on the list, the following should be printed: \"YOUR FRUIT is acceptable.\" If not, then the following should be printed: \"YOUR FRUIT is not acceptable.\" Upper case text in the print statement should be replaced with the tested fruit."
   ]
  },
  {
   "cell_type": "code",
   "execution_count": 20,
   "id": "59d8ec55-cb06-4647-a523-1992f853b58e",
   "metadata": {},
   "outputs": [
    {
     "name": "stdout",
     "output_type": "stream",
     "text": [
      "banana is not acceptable\n"
     ]
    }
   ],
   "source": [
    "fruit = \"banana\"  # replace with your own fruit within \"\" to be tested\n",
    "acceptable_fruits = [\"apple\", \"orange\", \"pear\", \"kiwi\", \"strawberry\"]\n",
    "\n",
    "if fruit in acceptable_fruits:\n",
    "    print(str(fruit) + \" is acceptable\")\n",
    "else:\n",
    "    print(str(fruit) + \" is not acceptable\")"
   ]
  },
  {
   "cell_type": "markdown",
   "id": "534dd116-b053-4bd3-9cc6-5060c3ca6f07",
   "metadata": {},
   "source": [
    "**Task 3** Create a function to calculate the distance between two coordinates using the haversine formula. Write the following formula where the input parameters are a pair of coordinates as two lists."
   ]
  },
  {
   "cell_type": "code",
   "execution_count": 2,
   "id": "3a088d1a-92f4-45c5-8638-f0c898e1f3c2",
   "metadata": {},
   "outputs": [
    {
     "name": "stdout",
     "output_type": "stream",
     "text": [
      "The distance between Coordinates 1 and Coordinates 2 is 11694.87 km.\n"
     ]
    }
   ],
   "source": [
    "#Import necessary individual functions from math module\n",
    "from math import radians, sin, cos, sqrt, atan2\n",
    "\n",
    "#Define the function\n",
    "def haversine(coord1, coord2):\n",
    "    \n",
    "    # Earth radius in kilometers\n",
    "    R = 6371\n",
    "    \n",
    "    # Convert coordinates to radians\n",
    "    lat1 = radians(coord1[0])\n",
    "    lon1 = radians(coord1[1])\n",
    "    lat2 = radians(coord2[0])\n",
    "    lon2 = radians(coord2[1])\n",
    "    \n",
    "    # Calculate differences between coordinates\n",
    "    dlat = lat2 - lat1\n",
    "    dlon = lon2 - lon1\n",
    "    \n",
    "    # Haversine formula\n",
    "    a = sin(dlat/2)**2 + cos(lat1) * cos(lat2) * sin(dlon/2)**2\n",
    "    c = 2 * atan2(sqrt(a), sqrt(1-a))\n",
    "    distance = R * c\n",
    "    \n",
    "    return distance\n",
    "\n",
    "# Input coordinates here\n",
    "coord1 = [40, -74]\n",
    "coord2 = [34, 118]\n",
    "\n",
    "# Calculate distance using haversine formula\n",
    "distance = haversine(coord1, coord2)\n",
    "\n",
    "print(f\"The distance between Coordinates 1 and Coordinates 2 is {distance:.2f} km.\")"
   ]
  },
  {
   "cell_type": "markdown",
   "id": "c20d579a-f9f0-4561-a01f-46f38e9b7674",
   "metadata": {},
   "source": [
    "**Pandas and NumPy**"
   ]
  },
  {
   "cell_type": "code",
   "execution_count": 3,
   "id": "2fee4b62-0b83-4e24-b611-a8f92b94514d",
   "metadata": {},
   "outputs": [],
   "source": [
    "#Import NumPy and Pandas to use in code\n",
    "import numpy as np\n",
    "import pandas as pd"
   ]
  },
  {
   "cell_type": "code",
   "execution_count": 84,
   "id": "b21964bd-8c16-4ddd-8e16-56f1cd6d704c",
   "metadata": {
    "tags": []
   },
   "outputs": [
    {
     "data": {
      "text/html": [
       "<div>\n",
       "<style scoped>\n",
       "    .dataframe tbody tr th:only-of-type {\n",
       "        vertical-align: middle;\n",
       "    }\n",
       "\n",
       "    .dataframe tbody tr th {\n",
       "        vertical-align: top;\n",
       "    }\n",
       "\n",
       "    .dataframe thead th {\n",
       "        text-align: right;\n",
       "    }\n",
       "</style>\n",
       "<table border=\"1\" class=\"dataframe\">\n",
       "  <thead>\n",
       "    <tr style=\"text-align: right;\">\n",
       "      <th></th>\n",
       "      <th>fid</th>\n",
       "      <th>OBJECTID</th>\n",
       "      <th>Inventory_</th>\n",
       "      <th>Species</th>\n",
       "      <th>DBH</th>\n",
       "      <th>Condition</th>\n",
       "      <th>TreeHeight</th>\n",
       "      <th>CrownWidth</th>\n",
       "      <th>CrownWid_1</th>\n",
       "      <th>CollectedB</th>\n",
       "      <th>...</th>\n",
       "      <th>Genus</th>\n",
       "      <th>Common_nam</th>\n",
       "      <th>Genus_spec</th>\n",
       "      <th>Functional</th>\n",
       "      <th>Size</th>\n",
       "      <th>Native</th>\n",
       "      <th>Edible</th>\n",
       "      <th>Nuisance</th>\n",
       "      <th>Origin</th>\n",
       "      <th>Species_fa</th>\n",
       "    </tr>\n",
       "  </thead>\n",
       "  <tbody>\n",
       "    <tr>\n",
       "      <th>0</th>\n",
       "      <td>1</td>\n",
       "      <td>426</td>\n",
       "      <td>2017/05/09</td>\n",
       "      <td>PSME</td>\n",
       "      <td>37.4</td>\n",
       "      <td>Fair</td>\n",
       "      <td>105.0</td>\n",
       "      <td>44.0</td>\n",
       "      <td>57.0</td>\n",
       "      <td>staff</td>\n",
       "      <td>...</td>\n",
       "      <td>Pseudotsuga</td>\n",
       "      <td>Douglas-fir</td>\n",
       "      <td>Pseudotsuga menziesii</td>\n",
       "      <td>CE</td>\n",
       "      <td>L</td>\n",
       "      <td>Yes</td>\n",
       "      <td>NaN</td>\n",
       "      <td>NaN</td>\n",
       "      <td>North America - from British Columbia south to...</td>\n",
       "      <td>Bracts on cones look like a mouse's feet and t...</td>\n",
       "    </tr>\n",
       "    <tr>\n",
       "      <th>1</th>\n",
       "      <td>2</td>\n",
       "      <td>427</td>\n",
       "      <td>2017/05/09</td>\n",
       "      <td>PSME</td>\n",
       "      <td>32.5</td>\n",
       "      <td>Fair</td>\n",
       "      <td>94.0</td>\n",
       "      <td>49.0</td>\n",
       "      <td>45.0</td>\n",
       "      <td>staff</td>\n",
       "      <td>...</td>\n",
       "      <td>Pseudotsuga</td>\n",
       "      <td>Douglas-fir</td>\n",
       "      <td>Pseudotsuga menziesii</td>\n",
       "      <td>CE</td>\n",
       "      <td>L</td>\n",
       "      <td>Yes</td>\n",
       "      <td>NaN</td>\n",
       "      <td>NaN</td>\n",
       "      <td>North America - from British Columbia south to...</td>\n",
       "      <td>Bracts on cones look like a mouse's feet and t...</td>\n",
       "    </tr>\n",
       "    <tr>\n",
       "      <th>2</th>\n",
       "      <td>3</td>\n",
       "      <td>428</td>\n",
       "      <td>2017/05/09</td>\n",
       "      <td>CRLA</td>\n",
       "      <td>9.7</td>\n",
       "      <td>Fair</td>\n",
       "      <td>23.0</td>\n",
       "      <td>28.0</td>\n",
       "      <td>27.0</td>\n",
       "      <td>staff</td>\n",
       "      <td>...</td>\n",
       "      <td>Crataegus</td>\n",
       "      <td>Lavalle hawthorn</td>\n",
       "      <td>Crataegus x lavalleei</td>\n",
       "      <td>BD</td>\n",
       "      <td>S</td>\n",
       "      <td>No</td>\n",
       "      <td>NaN</td>\n",
       "      <td>NaN</td>\n",
       "      <td>North America - a hybrid between a Mexican and...</td>\n",
       "      <td>Like most hawthorns, the tree has stout thorns...</td>\n",
       "    </tr>\n",
       "  </tbody>\n",
       "</table>\n",
       "<p>3 rows × 40 columns</p>\n",
       "</div>"
      ],
      "text/plain": [
       "   fid  OBJECTID  Inventory_ Species   DBH Condition  TreeHeight  CrownWidth  \\\n",
       "0    1       426  2017/05/09    PSME  37.4      Fair       105.0        44.0   \n",
       "1    2       427  2017/05/09    PSME  32.5      Fair        94.0        49.0   \n",
       "2    3       428  2017/05/09    CRLA   9.7      Fair        23.0        28.0   \n",
       "\n",
       "   CrownWid_1 CollectedB  ...        Genus        Common_nam  \\\n",
       "0        57.0      staff  ...  Pseudotsuga       Douglas-fir   \n",
       "1        45.0      staff  ...  Pseudotsuga       Douglas-fir   \n",
       "2        27.0      staff  ...    Crataegus  Lavalle hawthorn   \n",
       "\n",
       "              Genus_spec Functional Size Native Edible Nuisance  \\\n",
       "0  Pseudotsuga menziesii         CE    L    Yes    NaN      NaN   \n",
       "1  Pseudotsuga menziesii         CE    L    Yes    NaN      NaN   \n",
       "2  Crataegus x lavalleei         BD    S     No    NaN      NaN   \n",
       "\n",
       "                                              Origin  \\\n",
       "0  North America - from British Columbia south to...   \n",
       "1  North America - from British Columbia south to...   \n",
       "2  North America - a hybrid between a Mexican and...   \n",
       "\n",
       "                                          Species_fa  \n",
       "0  Bracts on cones look like a mouse's feet and t...  \n",
       "1  Bracts on cones look like a mouse's feet and t...  \n",
       "2  Like most hawthorns, the tree has stout thorns...  \n",
       "\n",
       "[3 rows x 40 columns]"
      ]
     },
     "execution_count": 84,
     "metadata": {},
     "output_type": "execute_result"
    }
   ],
   "source": [
    "#Import the data file\n",
    "trees_df = pd.read_csv(\"portland_park_trees.csv\", sep=\",\", header=0, encoding=\"ISO-8859-1\")\n",
    "trees_df.head(3)"
   ]
  },
  {
   "cell_type": "code",
   "execution_count": 46,
   "id": "c9c91b74-15c7-4fec-8c09-43221b72e41b",
   "metadata": {},
   "outputs": [
    {
     "data": {
      "text/plain": [
       "(25534, 40)"
      ]
     },
     "execution_count": 46,
     "metadata": {},
     "output_type": "execute_result"
    }
   ],
   "source": [
    "#See how many rows and columns are in the dataframe: 25,534 rows and 40 columns\n",
    "trees_df.shape"
   ]
  },
  {
   "cell_type": "markdown",
   "id": "1833e583-7a52-4031-90ec-23539a7d04df",
   "metadata": {},
   "source": [
    "**Question 1:** How many trees are of the Quercus or Acer genus?"
   ]
  },
  {
   "cell_type": "code",
   "execution_count": 58,
   "id": "05621029-e040-498b-9e3f-af0804b4782e",
   "metadata": {},
   "outputs": [
    {
     "name": "stdout",
     "output_type": "stream",
     "text": [
      "Number of Quercus or Acer trees: 5675\n"
     ]
    }
   ],
   "source": [
    "# Select the rows where the genus is Quercus or Acer\n",
    "quercus_acer = trees_df[trees_df['Genus'].isin(['Quercus', 'Acer'])]\n",
    "\n",
    "# Count the number of rows in the resulting dataframe\n",
    "num_quercus_acer = len(quercus_acer)\n",
    "\n",
    "# Print the result\n",
    "print(\"Number of Quercus or Acer trees:\", num_quercus_acer)"
   ]
  },
  {
   "cell_type": "markdown",
   "id": "4d8f95d4-7647-4137-b475-0e0f2c5f6bf0",
   "metadata": {},
   "source": [
    "**Question 2:** How many trees are of the Quercus or Acer genus and have a DBH larger than 50 inches?"
   ]
  },
  {
   "cell_type": "code",
   "execution_count": 78,
   "id": "d4626743-d934-45ec-9c48-24d62f274d36",
   "metadata": {},
   "outputs": [
    {
     "name": "stdout",
     "output_type": "stream",
     "text": [
      "Number of Quercus or Acer genus that have a DBH larger than 50 inches: 124\n"
     ]
    }
   ],
   "source": [
    "#Make a query for Quercus and Acer with DBH larger than 50.\n",
    "num_quercus_acer50 = quercus_acer.query('DBH > 50')\n",
    "\n",
    "#Count the number of rows in the resulting dataframe\n",
    "quercus_acer_50 = (len(num_quercus_acer50))\n",
    "\n",
    "#Print the result\n",
    "print(\"Number of Quercus or Acer genus that have a DBH larger than 50 inches:\", quercus_acer_50)"
   ]
  },
  {
   "cell_type": "markdown",
   "id": "840bf630-5e2e-47d8-ac55-058ede0485c4",
   "metadata": {},
   "source": [
    "**Question 3:** Which genus has the highest mean DBH of the following genera: Quercus, Acer, or Fraxinus?"
   ]
  },
  {
   "cell_type": "code",
   "execution_count": 73,
   "id": "58f5ae64-ba60-4914-858e-d2f2982d8224",
   "metadata": {},
   "outputs": [
    {
     "name": "stdout",
     "output_type": "stream",
     "text": [
      "The genus with the highest mean DBH is: Quercus\n"
     ]
    }
   ],
   "source": [
    "# Create a list of the three chosen genera\n",
    "genera = ['Quercus', 'Acer', 'Fraxinus']\n",
    "\n",
    "# Filter the dataset to only include the chosen genera\n",
    "chosen_data = trees_df[trees_df['Genus'].isin(genera)]\n",
    "\n",
    "# Calculate the mean DBH for each genus\n",
    "mean_diameter = chosen_data.groupby('Genus')['DBH'].mean()\n",
    "\n",
    "# Determine which genus has the highest mean DBH\n",
    "highest_mean_DBH = mean_diameter.idxmax()\n",
    "\n",
    "#Print the result\n",
    "print(\"The genus with the highest mean DBH is:\", highest_mean_DBH)"
   ]
  },
  {
   "cell_type": "markdown",
   "id": "0dbca238-e2b0-40a8-a8ae-9379ca515dbe",
   "metadata": {},
   "source": [
    "**Question 4:** How many different species of trees are recorded in the Acer genus?"
   ]
  },
  {
   "cell_type": "code",
   "execution_count": 99,
   "id": "c1de79e9-c0f9-4e38-ac78-399ec6bb2388",
   "metadata": {
    "tags": []
   },
   "outputs": [
    {
     "name": "stdout",
     "output_type": "stream",
     "text": [
      "The number of different species in the Acer genus is: 20\n"
     ]
    }
   ],
   "source": [
    "# Filter the dataset to only include the Acer genus\n",
    "acer_data = trees_df[trees_df[\"Genus\"] == \"Acer\"]\n",
    "acer_data.head(5)\n",
    "\n",
    "# Count the number of occurrences of each species in the Acer genus\n",
    "species_count = acer_data['Species'].value_counts()\n",
    "\n",
    "# Count the number of unique species in the Acer genus\n",
    "num_species = len(species_count)\n",
    "\n",
    "#Print the result\n",
    "print(\"The number of different species in the Acer genus is:\", num_species)"
   ]
  },
  {
   "cell_type": "markdown",
   "id": "ace658ff-5fe5-4d84-95de-92f320fc826b",
   "metadata": {},
   "source": [
    "**Question 5:**"
   ]
  },
  {
   "cell_type": "code",
   "execution_count": 113,
   "id": "c38401b0-493c-48dc-9adc-0c39cb2dc450",
   "metadata": {},
   "outputs": [
    {
     "data": {
      "text/html": [
       "<div>\n",
       "<style scoped>\n",
       "    .dataframe tbody tr th:only-of-type {\n",
       "        vertical-align: middle;\n",
       "    }\n",
       "\n",
       "    .dataframe tbody tr th {\n",
       "        vertical-align: top;\n",
       "    }\n",
       "\n",
       "    .dataframe thead th {\n",
       "        text-align: right;\n",
       "    }\n",
       "</style>\n",
       "<table border=\"1\" class=\"dataframe\">\n",
       "  <thead>\n",
       "    <tr style=\"text-align: right;\">\n",
       "      <th></th>\n",
       "      <th>city</th>\n",
       "      <th>country</th>\n",
       "      <th>pop</th>\n",
       "      <th>lat</th>\n",
       "      <th>lon</th>\n",
       "      <th>capital</th>\n",
       "    </tr>\n",
       "  </thead>\n",
       "  <tbody>\n",
       "    <tr>\n",
       "      <th>0</th>\n",
       "      <td>'Abasan al-Jadidah</td>\n",
       "      <td>Palestine</td>\n",
       "      <td>5629</td>\n",
       "      <td>31.31</td>\n",
       "      <td>34.34</td>\n",
       "      <td>0</td>\n",
       "    </tr>\n",
       "    <tr>\n",
       "      <th>1</th>\n",
       "      <td>'Abasan al-Kabirah</td>\n",
       "      <td>Palestine</td>\n",
       "      <td>18999</td>\n",
       "      <td>31.32</td>\n",
       "      <td>34.35</td>\n",
       "      <td>0</td>\n",
       "    </tr>\n",
       "    <tr>\n",
       "      <th>2</th>\n",
       "      <td>'Abdul Hakim</td>\n",
       "      <td>Pakistan</td>\n",
       "      <td>47788</td>\n",
       "      <td>30.55</td>\n",
       "      <td>72.11</td>\n",
       "      <td>0</td>\n",
       "    </tr>\n",
       "  </tbody>\n",
       "</table>\n",
       "</div>"
      ],
      "text/plain": [
       "                 city    country    pop    lat    lon  capital\n",
       "0  'Abasan al-Jadidah  Palestine   5629  31.31  34.34        0\n",
       "1  'Abasan al-Kabirah  Palestine  18999  31.32  34.35        0\n",
       "2        'Abdul Hakim   Pakistan  47788  30.55  72.11        0"
      ]
     },
     "execution_count": 113,
     "metadata": {},
     "output_type": "execute_result"
    }
   ],
   "source": [
    "#Import the data file\n",
    "cities_df = pd.read_csv(\"world_cities.csv\", sep=\",\", header=0, encoding=\"ISO-8859-1\")\n",
    "cities_df.head(3)"
   ]
  },
  {
   "cell_type": "markdown",
   "id": "6c32153b-467c-45ce-985b-38f87008ca80",
   "metadata": {},
   "source": [
    "**a.** Calculate a new column named \"pop_M\" (population in millions), by transforming the \"pop\" (population) column."
   ]
  },
  {
   "cell_type": "code",
   "execution_count": 114,
   "id": "62ec9a2f-43aa-4e1f-b336-16e7584587a7",
   "metadata": {},
   "outputs": [
    {
     "data": {
      "text/html": [
       "<div>\n",
       "<style scoped>\n",
       "    .dataframe tbody tr th:only-of-type {\n",
       "        vertical-align: middle;\n",
       "    }\n",
       "\n",
       "    .dataframe tbody tr th {\n",
       "        vertical-align: top;\n",
       "    }\n",
       "\n",
       "    .dataframe thead th {\n",
       "        text-align: right;\n",
       "    }\n",
       "</style>\n",
       "<table border=\"1\" class=\"dataframe\">\n",
       "  <thead>\n",
       "    <tr style=\"text-align: right;\">\n",
       "      <th></th>\n",
       "      <th>city</th>\n",
       "      <th>country</th>\n",
       "      <th>pop</th>\n",
       "      <th>lat</th>\n",
       "      <th>lon</th>\n",
       "      <th>capital</th>\n",
       "      <th>pop_M</th>\n",
       "    </tr>\n",
       "  </thead>\n",
       "  <tbody>\n",
       "    <tr>\n",
       "      <th>0</th>\n",
       "      <td>'Abasan al-Jadidah</td>\n",
       "      <td>Palestine</td>\n",
       "      <td>5629</td>\n",
       "      <td>31.31</td>\n",
       "      <td>34.34</td>\n",
       "      <td>0</td>\n",
       "      <td>0.005629</td>\n",
       "    </tr>\n",
       "    <tr>\n",
       "      <th>1</th>\n",
       "      <td>'Abasan al-Kabirah</td>\n",
       "      <td>Palestine</td>\n",
       "      <td>18999</td>\n",
       "      <td>31.32</td>\n",
       "      <td>34.35</td>\n",
       "      <td>0</td>\n",
       "      <td>0.018999</td>\n",
       "    </tr>\n",
       "    <tr>\n",
       "      <th>2</th>\n",
       "      <td>'Abdul Hakim</td>\n",
       "      <td>Pakistan</td>\n",
       "      <td>47788</td>\n",
       "      <td>30.55</td>\n",
       "      <td>72.11</td>\n",
       "      <td>0</td>\n",
       "      <td>0.047788</td>\n",
       "    </tr>\n",
       "  </tbody>\n",
       "</table>\n",
       "</div>"
      ],
      "text/plain": [
       "                 city    country    pop    lat    lon  capital     pop_M\n",
       "0  'Abasan al-Jadidah  Palestine   5629  31.31  34.34        0  0.005629\n",
       "1  'Abasan al-Kabirah  Palestine  18999  31.32  34.35        0  0.018999\n",
       "2        'Abdul Hakim   Pakistan  47788  30.55  72.11        0  0.047788"
      ]
     },
     "execution_count": 114,
     "metadata": {},
     "output_type": "execute_result"
    }
   ],
   "source": [
    "#Create a new column \"pop_M\" with population values in millions\n",
    "cities_df['pop_M'] = cities_df['pop'] / 1000000\n",
    "\n",
    "# Print the updated DataFrame\n",
    "cities_df.head(3)"
   ]
  },
  {
   "cell_type": "markdown",
   "id": "b50f4c1a-6e5f-4854-86d7-eba77d2a8c08",
   "metadata": {},
   "source": [
    "**b.** Remove the original \"pop\" column."
   ]
  },
  {
   "cell_type": "code",
   "execution_count": 115,
   "id": "dd82f15e-d043-4ac9-9f34-fab200399114",
   "metadata": {},
   "outputs": [
    {
     "data": {
      "text/html": [
       "<div>\n",
       "<style scoped>\n",
       "    .dataframe tbody tr th:only-of-type {\n",
       "        vertical-align: middle;\n",
       "    }\n",
       "\n",
       "    .dataframe tbody tr th {\n",
       "        vertical-align: top;\n",
       "    }\n",
       "\n",
       "    .dataframe thead th {\n",
       "        text-align: right;\n",
       "    }\n",
       "</style>\n",
       "<table border=\"1\" class=\"dataframe\">\n",
       "  <thead>\n",
       "    <tr style=\"text-align: right;\">\n",
       "      <th></th>\n",
       "      <th>city</th>\n",
       "      <th>country</th>\n",
       "      <th>lat</th>\n",
       "      <th>lon</th>\n",
       "      <th>capital</th>\n",
       "      <th>pop_M</th>\n",
       "    </tr>\n",
       "  </thead>\n",
       "  <tbody>\n",
       "    <tr>\n",
       "      <th>0</th>\n",
       "      <td>'Abasan al-Jadidah</td>\n",
       "      <td>Palestine</td>\n",
       "      <td>31.31</td>\n",
       "      <td>34.34</td>\n",
       "      <td>0</td>\n",
       "      <td>0.005629</td>\n",
       "    </tr>\n",
       "    <tr>\n",
       "      <th>1</th>\n",
       "      <td>'Abasan al-Kabirah</td>\n",
       "      <td>Palestine</td>\n",
       "      <td>31.32</td>\n",
       "      <td>34.35</td>\n",
       "      <td>0</td>\n",
       "      <td>0.018999</td>\n",
       "    </tr>\n",
       "    <tr>\n",
       "      <th>2</th>\n",
       "      <td>'Abdul Hakim</td>\n",
       "      <td>Pakistan</td>\n",
       "      <td>30.55</td>\n",
       "      <td>72.11</td>\n",
       "      <td>0</td>\n",
       "      <td>0.047788</td>\n",
       "    </tr>\n",
       "  </tbody>\n",
       "</table>\n",
       "</div>"
      ],
      "text/plain": [
       "                 city    country    lat    lon  capital     pop_M\n",
       "0  'Abasan al-Jadidah  Palestine  31.31  34.34        0  0.005629\n",
       "1  'Abasan al-Kabirah  Palestine  31.32  34.35        0  0.018999\n",
       "2        'Abdul Hakim   Pakistan  30.55  72.11        0  0.047788"
      ]
     },
     "execution_count": 115,
     "metadata": {},
     "output_type": "execute_result"
    }
   ],
   "source": [
    "cities_df = cities_df.drop(columns=['pop'])\n",
    "\n",
    "# Print the updated DataFrame\n",
    "cities_df.head(3)"
   ]
  },
  {
   "cell_type": "markdown",
   "id": "cb5a65a1-2fc7-472f-b421-9b37def0e22a",
   "metadata": {},
   "source": [
    "**c.** Choose/subset a city that starts with the same letter as your first name (for example,\n",
    "\"Mexico City\" if your first name is Michael)."
   ]
  },
  {
   "cell_type": "code",
   "execution_count": 120,
   "id": "f816f9aa-9ab4-4531-b8c6-69f47876c8bb",
   "metadata": {},
   "outputs": [
    {
     "name": "stdout",
     "output_type": "stream",
     "text": [
      "      city   country   lat    lon  capital    pop_M\n",
      "31949  Saa  Cameroon  4.37  11.45        0  0.00586\n"
     ]
    }
   ],
   "source": [
    "#Choose city that starts with the letter 's' by looking at raw csv - i chose Saa, Cameroon.\n",
    "#Subset the rows where city is Saa\n",
    "saa_df = cities_df[cities_df['city'] == 'Saa']\n",
    "\n",
    "#Print the updated DataFrame\n",
    "print(saa_df)"
   ]
  },
  {
   "cell_type": "markdown",
   "id": "3c5ad970-9fb6-4096-8871-8ad728227682",
   "metadata": {},
   "source": [
    "**d.** \n",
    "Subset the five biggest (i.e., largest population sizes) cities from the country where your\n",
    "selected city is."
   ]
  },
  {
   "cell_type": "code",
   "execution_count": 128,
   "id": "aa3994d4-2118-414b-96dd-9065e833e04e",
   "metadata": {},
   "outputs": [
    {
     "name": "stdout",
     "output_type": "stream",
     "text": [
      "           city   country    lat    lon  capital     pop_M\n",
      "9738     Douala  Cameroon   4.06   9.71        0  1.371448\n",
      "42193   Yaounde  Cameroon   3.87  11.52        1  1.344617\n",
      "18967  Kousseri  Cameroon  12.08  15.03        0  0.476566\n",
      "12226    Garoua  Cameroon   9.30  13.39        0  0.461337\n",
      "3115    Bamenda  Cameroon   5.96  10.15        0  0.419393\n"
     ]
    }
   ],
   "source": [
    "#Select the country where selected city is\n",
    "country = \"Cameroon\" \n",
    "\n",
    "#Subset the 5 biggest cities in Cameroon\n",
    "cameroon = cities_df[cities_df['country'] == country]\n",
    "top5 = cameroon.nlargest(5, 'pop_M')\n",
    "\n",
    "#Print result\n",
    "print(top5)"
   ]
  },
  {
   "cell_type": "code",
   "execution_count": null,
   "id": "00a82e0d-f493-43d4-b239-4a85e93ea4bc",
   "metadata": {},
   "outputs": [],
   "source": []
  }
 ],
 "metadata": {
  "kernelspec": {
   "display_name": "Python 3 (ipykernel)",
   "language": "python",
   "name": "python3"
  },
  "language_info": {
   "codemirror_mode": {
    "name": "ipython",
    "version": 3
   },
   "file_extension": ".py",
   "mimetype": "text/x-python",
   "name": "python",
   "nbconvert_exporter": "python",
   "pygments_lexer": "ipython3",
   "version": "3.10.9"
  }
 },
 "nbformat": 4,
 "nbformat_minor": 5
}
