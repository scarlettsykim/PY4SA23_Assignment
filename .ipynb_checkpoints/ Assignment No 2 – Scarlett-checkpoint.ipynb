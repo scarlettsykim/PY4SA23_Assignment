{
 "cells": [
  {
   "cell_type": "markdown",
   "id": "a5369fc0-8b70-42ba-bb08-9436c861b307",
   "metadata": {},
   "source": [
    "# Lab Assignment 2 – Scarlett  200016841 \n",
    "**(The URL of the recently created GitHub repository (Not MYFirstRepo, orPY4SA_Course)**"
   ]
  },
  {
   "cell_type": "markdown",
   "id": "8cffe89e-5fbe-456d-8913-c0aa9e77111a",
   "metadata": {
    "tags": []
   },
   "source": [
    "## Assignment Tasks"
   ]
  },
  {
   "cell_type": "markdown",
   "id": "0794f23f-d4da-41ce-a3b6-7dc9148e0e37",
   "metadata": {},
   "source": [
    "**Python Basics**"
   ]
  },
  {
   "cell_type": "markdown",
   "id": "f8c250be-4187-4a6a-b1c7-93dd6a5e48c4",
   "metadata": {},
   "source": [
    "**Task 1:**\n",
    "Create an If...Else statement that will test whether a number is divisible by three. \"YOUR VALUE is divisible by 3\" should be printed if the value is divisible by three. \"YOUR VALUE is not divisible by three\" should be printed if it is not divisible by three. Test the statement on a numeric variable. Upper case text in the print statement should be replaced with the tested number."
   ]
  },
  {
   "cell_type": "code",
   "execution_count": 13,
   "id": "1eb4b543-92ad-4604-b20c-816611156542",
   "metadata": {},
   "outputs": [
    {
     "name": "stdout",
     "output_type": "stream",
     "text": [
      "12 is divisible by 3.\n"
     ]
    }
   ],
   "source": [
    "number = 12  # replace with your own value to be tested\n",
    "\n",
    "if number % 3 == 0:\n",
    "    print(str(number) + \" is divisible by 3\")\n",
    "else:\n",
    "    print(str(number) + \" is not divisible by 3\")"
   ]
  },
  {
   "cell_type": "markdown",
   "id": "4f453b04-8bca-4d6f-b7d0-de7ee61f1bc2",
   "metadata": {},
   "source": [
    "**Task 2** Create an If...Else statement that will test whether a type of fruit, represented as a text string, is in a list of acceptable fruits (apple, orange, pear, kiwi, or strawberry). If the fruit is on the list, the following should be printed: \"YOUR FRUIT is acceptable.\" If not, then the following should be printed: \"YOUR FRUIT is not acceptable.\" Upper case text in the print statement should be replaced with the tested fruit."
   ]
  },
  {
   "cell_type": "code",
   "execution_count": 20,
   "id": "59d8ec55-cb06-4647-a523-1992f853b58e",
   "metadata": {},
   "outputs": [
    {
     "name": "stdout",
     "output_type": "stream",
     "text": [
      "banana is not acceptable\n"
     ]
    }
   ],
   "source": [
    "fruit = \"banana\"  # replace with your own fruit within \"\" to be tested\n",
    "acceptable_fruits = [\"apple\", \"orange\", \"pear\", \"kiwi\", \"strawberry\"]\n",
    "\n",
    "if fruit in acceptable_fruits:\n",
    "    print(str(fruit) + \" is acceptable\")\n",
    "else:\n",
    "    print(str(fruit) + \" is not acceptable\")"
   ]
  },
  {
   "cell_type": "markdown",
   "id": "534dd116-b053-4bd3-9cc6-5060c3ca6f07",
   "metadata": {},
   "source": [
    "**Task 3** Create a function to calculate the distance between two coordinates using the haversine formula. Write the following formula where the input parameters are a pair of coordinates as two lists."
   ]
  },
  {
   "cell_type": "code",
   "execution_count": null,
   "id": "3a088d1a-92f4-45c5-8638-f0c898e1f3c2",
   "metadata": {},
   "outputs": [],
   "source": []
  }
 ],
 "metadata": {
  "kernelspec": {
   "display_name": "Python 3 (ipykernel)",
   "language": "python",
   "name": "python3"
  },
  "language_info": {
   "codemirror_mode": {
    "name": "ipython",
    "version": 3
   },
   "file_extension": ".py",
   "mimetype": "text/x-python",
   "name": "python",
   "nbconvert_exporter": "python",
   "pygments_lexer": "ipython3",
   "version": "3.10.9"
  }
 },
 "nbformat": 4,
 "nbformat_minor": 5
}
