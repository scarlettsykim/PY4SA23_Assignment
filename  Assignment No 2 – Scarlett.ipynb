{
 "cells": [
  {
   "cell_type": "markdown",
   "id": "a5369fc0-8b70-42ba-bb08-9436c861b307",
   "metadata": {},
   "source": [
    "# Lab Assignment 2 – Scarlett  200016841 \n",
    "**(The URL of the recently created GitHub repository (Not MYFirstRepo, orPY4SA_Course)**"
   ]
  },
  {
   "cell_type": "markdown",
   "id": "8cffe89e-5fbe-456d-8913-c0aa9e77111a",
   "metadata": {
    "tags": []
   },
   "source": [
    "## Assignment Tasks"
   ]
  },
  {
   "cell_type": "markdown",
   "id": "0794f23f-d4da-41ce-a3b6-7dc9148e0e37",
   "metadata": {},
   "source": [
    "**Python Basics**"
   ]
  },
  {
   "cell_type": "markdown",
   "id": "f8c250be-4187-4a6a-b1c7-93dd6a5e48c4",
   "metadata": {},
   "source": [
    "**Task 1:**\n",
    "Create an If...Else statement that will test whether a number is divisible by three. \"YOUR VALUE is divisible by 3\" should be printed if the value is divisible by three. \"YOUR VALUE is not divisible by three\" should be printed if it is not divisible by three. Test the statement on a numeric variable. Upper case text in the print statement should be replaced with the tested number."
   ]
  },
  {
   "cell_type": "code",
   "execution_count": null,
   "id": "1eb4b543-92ad-4604-b20c-816611156542",
   "metadata": {},
   "outputs": [],
   "source": []
  }
 ],
 "metadata": {
  "kernelspec": {
   "display_name": "Python 3 (ipykernel)",
   "language": "python",
   "name": "python3"
  },
  "language_info": {
   "codemirror_mode": {
    "name": "ipython",
    "version": 3
   },
   "file_extension": ".py",
   "mimetype": "text/x-python",
   "name": "python",
   "nbconvert_exporter": "python",
   "pygments_lexer": "ipython3",
   "version": "3.10.9"
  }
 },
 "nbformat": 4,
 "nbformat_minor": 5
}
